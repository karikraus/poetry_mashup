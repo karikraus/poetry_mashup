{
 "cells": [
  {
   "cell_type": "markdown",
   "metadata": {},
   "source": [
    "Poetry Mashups Using TextBlob and Part of Speech Tagging\n",
    "\n",
    "(Draws heavily on some of Allison Parrish's older tutorials, including http://rwet.decontextualize.com/book/textblob/)"
   ]
  },
  {
   "cell_type": "markdown",
   "metadata": {},
   "source": [
    "The first thing you'll need to do is get two new poems into your Anaconda Directory where Jupyter Notebook lives.One of these is Robert Frost's \"The Road Not Taken,\" which you can find here: https://github.com/aparrish/rwet/blob/master/frost.txt The other is William Blake's \"The Tyger,\" which you can find here: https://www.poetryfoundation.org/poems/43687/the-tyger You should save the Frost poem as \"frost.txt\" in UTF-8 format. You should save the Blake poem as \"tyger.txt\" in UTF-8 format. Once again, follow the procedures from the Google doc I made several weeks ago showing you how to get the Sea Rose poem into the proper directory: https://docs.google.com/document/d/1qwXYbobcfj4-uHCsbTaFq88-h4U6xGhRT16y-C-U7MM/edit?usp=sharing (Tip: when copying-and-pasting the Frost poem into your text editor, first select \"Raw\" from the menu to the right of the poem. Use that copy of the text.)"
   ]
  },
  {
   "cell_type": "markdown",
   "metadata": {},
   "source": [
    "For a list of part of speech abbreviations, see this post: https://www.learntek.org/blog/categorizing-pos-tagging-nltk-python/\n",
    "\n",
    "NB: Only type in and execute the code in the first cell, below, if you're running my online Jupyter notebook. If you're running the code from your own Jupyter notebook, skip the three lines of code in that first cell. Start with the second cell. "
   ]
  },
  {
   "cell_type": "code",
   "execution_count": null,
   "metadata": {},
   "outputs": [],
   "source": [
    "import nltk \n",
    "nltk.download('punkt')\n",
    "nltk.download('averaged_perceptron_tagger')"
   ]
  },
  {
   "cell_type": "code",
   "execution_count": null,
   "metadata": {},
   "outputs": [],
   "source": [
    "from textblob import TextBlob\n",
    "blob = TextBlob(\"I need my hair cut.\")\n",
    "for word, pos in blob.tags:\n",
    "    print(word, pos)"
   ]
  },
  {
   "cell_type": "code",
   "execution_count": null,
   "metadata": {},
   "outputs": [],
   "source": [
    "poem = open(\"sea_rose.txt\").read()\n",
    "blob = TextBlob(poem)\n",
    "for word, pos in blob.tags:\n",
    "    print(word, pos)"
   ]
  },
  {
   "cell_type": "code",
   "execution_count": null,
   "metadata": {},
   "outputs": [],
   "source": [
    "sr = open(\"sea_rose.txt\").read()\n",
    "print(sr)"
   ]
  },
  {
   "cell_type": "code",
   "execution_count": null,
   "metadata": {},
   "outputs": [],
   "source": [
    "fp = open(\"frost.txt\").read()\n",
    "print(fp)"
   ]
  },
  {
   "cell_type": "code",
   "execution_count": null,
   "metadata": {},
   "outputs": [],
   "source": [
    "bp = open(\"tyger.txt\").read()\n",
    "print(bp)"
   ]
  },
  {
   "cell_type": "code",
   "execution_count": null,
   "metadata": {},
   "outputs": [],
   "source": [
    "from textblob import TextBlob\n",
    "import sys\n",
    "import random\n",
    "roseblob = TextBlob(open(\"sea_rose.txt\").read())\n",
    "rosenouns = list()\n",
    "for word, tag in roseblob.tags:\n",
    "    if tag == 'NN':\n",
    "        rosenouns.append(word.lemmatize())       \n",
    "\n",
    "frostblob = TextBlob(open(\"frost.txt\").read())\n",
    "frostnouns = list()\n",
    "for word, tag in frostblob.tags:\n",
    "    if tag == 'NN':\n",
    "        frostnouns.append(word.lemmatize())\n",
    "\n",
    "lines = frostblob.split(\"\\n\")\n",
    "for line in lines:\n",
    "    line = line.strip()\n",
    "    if len(line) == 0:\n",
    "        print(line)\n",
    "    else:\n",
    "        line_words = line.split()\n",
    "        for word in line_words:\n",
    "            if word in frostnouns:\n",
    "                random_rose_word = random.choice(rosenouns)\n",
    "                line = line.replace(word, random_rose_word)\n",
    "        print(line)"
   ]
  },
  {
   "cell_type": "code",
   "execution_count": null,
   "metadata": {},
   "outputs": [],
   "source": [
    "print(rosenouns)"
   ]
  },
  {
   "cell_type": "code",
   "execution_count": null,
   "metadata": {},
   "outputs": [],
   "source": [
    "print(frostnouns)"
   ]
  },
  {
   "cell_type": "markdown",
   "metadata": {},
   "source": [
    "Challenge Exercise: Modify the code above so that it replaces all the adjectives in the Frost poem with adjectives from the Sea Rose poem. Then try one additional mashup, this time swapping out verbs."
   ]
  },
  {
   "cell_type": "code",
   "execution_count": null,
   "metadata": {},
   "outputs": [],
   "source": [
    "from textblob import TextBlob\n",
    "import sys\n",
    "import random\n",
    "roseblob = TextBlob(open(\"sea_rose.txt\").read())\n",
    "rosenouns = list()\n",
    "for word, tag in roseblob.tags:\n",
    "    if tag == 'NN':\n",
    "        rosenouns.append(word.lemmatize())\n",
    "\n",
    "frostblob = TextBlob(open(\"frost.txt\").read())\n",
    "frostnouns = list()\n",
    "for word, tag in frostblob.tags:\n",
    "    if tag == 'NN':\n",
    "        frostnouns.append(word.lemmatize())\n",
    "\n",
    "lines = roseblob.split(\"\\n\")\n",
    "for line in lines:\n",
    "    line = line.strip()\n",
    "    if len(line) == 0:\n",
    "        print(line)\n",
    "    else:\n",
    "        line_words = line.split()\n",
    "        for word in line_words:\n",
    "            if word in rosenouns:\n",
    "                random_frost_word = random.choice(frostnouns)\n",
    "                line = line.replace(word, random_frost_word)\n",
    "        print(line)"
   ]
  },
  {
   "cell_type": "code",
   "execution_count": null,
   "metadata": {},
   "outputs": [],
   "source": [
    "from textblob import TextBlob\n",
    "import sys\n",
    "import random\n",
    "roseblob = TextBlob(open(\"sea_rose.txt\").read())\n",
    "rosenouns = list()\n",
    "for word, tag in roseblob.tags:\n",
    "    if tag == 'NN':\n",
    "        rosenouns.append(word.lemmatize())\n",
    "\n",
    "frostblob = TextBlob(open(\"frost.txt\").read())\n",
    "frostnouns = list()\n",
    "for word, tag in frostblob.tags:\n",
    "    if tag == 'NN':\n",
    "        frostnouns.append(word.lemmatize())\n",
    "        \n",
    "blakeblob = TextBlob(open(\"tyger.txt\").read())\n",
    "for word, tag in blakeblob.tags:\n",
    "    if tag == 'NN':\n",
    "        frostnouns.append(word.lemmatize())\n",
    "\n",
    "lines = roseblob.split(\"\\n\")\n",
    "for line in lines:\n",
    "    line = line.strip()\n",
    "    if len(line) == 0:\n",
    "        print(line)\n",
    "    else:\n",
    "        line_words = line.split()\n",
    "        for word in line_words:\n",
    "            if word in rosenouns:\n",
    "                random_frost_word = random.choice(frostnouns)\n",
    "                line = line.replace(word, random_frost_word)\n",
    "        print(line)"
   ]
  },
  {
   "cell_type": "markdown",
   "metadata": {},
   "source": [
    "\"House of Dust\" is available from Nick Montfort's site as a Python reimplementation: https://nickm.com/memslam/a_house_of_dust.py\n",
    "\n",
    "NB: I've modified the code from Nick's site so that it runs in a loop in my Jupyter Notebook. Note the \"While True\" statement below and the use of the \"time\" module."
   ]
  },
  {
   "cell_type": "code",
   "execution_count": null,
   "metadata": {},
   "outputs": [],
   "source": [
    "#!/usr/bin/python\n",
    "\n",
    "# A House of Dust, copyright (c) 2014 Nick Montfort <nickm@nickm.com>\n",
    "# Original by Alison Knowles & James Tenney, 1967\n",
    "#\n",
    "# Permission to use, copy, modify, and/or distribute this software for any\n",
    "# purpose with or without fee is hereby granted, provided that the above\n",
    "# copyright notice and this permission notice appear in all copies.\n",
    "#\n",
    "# THE SOFTWARE IS PROVIDED \"AS IS\" AND THE AUTHOR DISCLAIMS ALL WARRANTIES\n",
    "# WITH REGARD TO THIS SOFTWARE INCLUDING ALL IMPLIED WARRANTIES OF\n",
    "# MERCHANTABILITY AND FITNESS. IN NO EVENT SHALL THE AUTHOR BE LIABLE FOR ANY\n",
    "# SPECIAL, DIRECT, INDIRECT, OR CONSEQUENTIAL DAMAGES OR ANY DAMAGES\n",
    "# WHATSOEVER RESULTING FROM LOSS OF USE, DATA OR PROFITS, WHETHER IN AN\n",
    "# ACTION OF CONTRACT, NEGLIGENCE OR OTHER TORTIOUS ACTION, ARISING OUT OF OR\n",
    "# IN CONNECTION WITH THE USE OR PERFORMANCE OF THIS SOFTWARE.\n",
    "#\n",
    "# Updated 10 March 2015 to remove a duplicate value in \"place\".\n",
    "# Updated 17 November 2015 to remove a near-duplicate value in \"inhabitants\".\n",
    "# Updated 31 May 2018 to add compatibility with Python 3 (Python 2 still works)\n",
    "\n",
    "from random import choice\n",
    "import time\n",
    "\n",
    "material = ['SAND', 'DUST', 'LEAVES', 'PAPER', 'TIN', 'ROOTS', 'BRICK', 'STONE', 'DISCARDED CLOTHING', 'GLASS', 'STEEL', 'PLASTIC', 'MUD', 'BROKEN DISHES', 'WOOD', 'STRAW', 'WEEDS']\n",
    "\n",
    "location = ['IN A GREEN, MOSSY TERRAIN', 'IN AN OVERPOPULATED AREA', 'BY THE SEA', 'BY AN ABANDONED LAKE', 'IN A DESERTED FACTORY', 'IN DENSE WOODS', 'IN JAPAN', 'AMONG SMALL HILLS', 'IN SOUTHERN FRANCE', 'AMONG HIGH MOUNTAINS', 'ON AN ISLAND', 'IN A COLD, WINDY CLIMATE', 'IN A PLACE WITH BOTH HEAVY RAIN AND BRIGHT SUN', 'IN A DESERTED AIRPORT', 'IN A HOT CLIMATE', 'INSIDE A MOUNTAIN', 'ON THE SEA', 'IN MICHIGAN', 'IN HEAVY JUNGLE UNDERGROWTH', 'BY A RIVER', 'AMONG OTHER HOUSES', 'IN A DESERTED CHURCH', 'IN A METROPOLIS', 'UNDERWATER']\n",
    "\n",
    "light_source = ['CANDLES', 'ALL AVAILABLE LIGHTING', 'ELECTRICITY', 'NATURAL LIGHT']\n",
    "\n",
    "inhabitants = ['PEOPLE WHO SLEEP VERY LITTLE', 'VEGETARIANS', 'HORSES AND BIRDS', 'PEOPLE SPEAKING MANY LANGUAGES WEARING LITTLE OR NO CLOTHING', 'ALL RACES OF MEN REPRESENTED WEARING PREDOMINANTLY RED CLOTHING', 'CHILDREN AND OLD PEOPLE', 'VARIOUS BIRDS AND FISH', 'LOVERS', 'PEOPLE WHO ENJOY EATING TOGETHER', 'PEOPLE WHO EAT A GREAT DEAL', 'COLLECTORS OF ALL TYPES', 'FRIENDS AND ENEMIES', 'PEOPLE WHO SLEEP ALMOST ALL THE TIME', 'VERY TALL PEOPLE', 'AMERICAN INDIANS', 'LITTLE BOYS', 'PEOPLE FROM MANY WALKS OF LIFE', 'NEGROS WEARING ALL COLORS', 'FRIENDS', 'FRENCH AND GERMAN SPEAKING PEOPLE', 'FISHERMEN AND FAMILIES', 'PEOPLE WHO LOVE TO READ']\n",
    "\n",
    "while True:\n",
    "    print('')\n",
    "    print('A HOUSE OF ' + choice(material))\n",
    "    print('      ' + choice(location))\n",
    "    print('            USING ' + choice(light_source))\n",
    "    print('                  INHABITED BY ' + choice(inhabitants))\n",
    "    print('')\n",
    "    time.sleep(1)"
   ]
  },
  {
   "cell_type": "code",
   "execution_count": null,
   "metadata": {},
   "outputs": [],
   "source": []
  }
 ],
 "metadata": {
  "kernelspec": {
   "display_name": "Python 3",
   "language": "python",
   "name": "python3"
  },
  "language_info": {
   "codemirror_mode": {
    "name": "ipython",
    "version": 3
   },
   "file_extension": ".py",
   "mimetype": "text/x-python",
   "name": "python",
   "nbconvert_exporter": "python",
   "pygments_lexer": "ipython3",
   "version": "3.7.6"
  }
 },
 "nbformat": 4,
 "nbformat_minor": 2
}
