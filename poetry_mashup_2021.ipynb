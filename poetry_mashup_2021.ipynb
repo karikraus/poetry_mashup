{
 "cells": [
  {
   "cell_type": "markdown",
   "metadata": {},
   "source": [
    "Poetry Mashups Using TextBlob and Part of Speech Tagging\n",
    "\n",
    "(Draws heavily on some of Allison Parrish's older tutorials, including http://rwet.decontextualize.com/book/textblob/)"
   ]
  },
  {
   "cell_type": "markdown",
   "metadata": {},
   "source": [
    "The first thing you'll need to do is get two new poems into your Anaconda Directory where Jupyter Notebook lives.One of these is Robert Frost's \"The Road Not Taken,\" which you can find here: https://github.com/aparrish/rwet/blob/master/frost.txt The other is William Blake's \"The Tyger,\" which you can find here: https://www.poetryfoundation.org/poems/43687/the-tyger You should save the Frost poem as \"frost.txt\" in UTF-8 format. You should save the Blake poem as \"tyger.txt\" in UTF-8 format. Once again, follow the procedures from the Google doc I made several weeks ago showing you how to get the Sea Rose poem into the proper directory: https://docs.google.com/document/d/1KC8CALjUbwaaPmwzX8L-dkYxMkmDwl9GY2G6D21PCoY/edit?usp=sharing (Tip: when copying-and-pasting the Frost poem into your text editor, first select \"Raw\" from the menu to the right of the poem. Use that copy of the text.)"
   ]
  },
  {
   "cell_type": "markdown",
   "metadata": {},
   "source": [
    "For a list of part of speech abbreviations, see this post: https://www.learntek.org/blog/categorizing-pos-tagging-nltk-python/\n",
    "\n",
    "NB: Only type in and execute the code in the first cell, below, if you're running my online Jupyter notebook. If you're running the code from your own Jupyter notebook, skip the four lines of code in that first cell. Start with the second cell. "
   ]
  },
  {
   "cell_type": "code",
   "execution_count": null,
   "metadata": {},
   "outputs": [],
   "source": [
    "import nltk \n",
    "nltk.download('punkt')\n",
    "nltk.download('averaged_perceptron_tagger')\n",
    "nltk.download('wordnet')"
   ]
  },
  {
   "cell_type": "code",
   "execution_count": null,
   "metadata": {},
   "outputs": [],
   "source": [
    "from textblob import TextBlob #this code simply demonstrates how part of speech tagging works\n",
    "blob = TextBlob(\"I need my hair cut.\")\n",
    "for word, pos in blob.tags:\n",
    "    print(word, pos)"
   ]
  },
  {
   "cell_type": "code",
   "execution_count": null,
   "metadata": {},
   "outputs": [],
   "source": [
    "poem = open(\"sea_rose.txt\").read() #prints out each word in poem and lists its part of speech\n",
    "blob = TextBlob(poem)\n",
    "for word, pos in blob.tags:\n",
    "    print(word, pos) #note that many parts of speech labels in the output are not intuitive"
   ]
  },
  {
   "cell_type": "code",
   "execution_count": null,
   "metadata": {},
   "outputs": [],
   "source": [
    "sr = open(\"sea_rose.txt\").read() #opens and prints poem. Replace my filename with yours to open a different poem\n",
    "print(sr)"
   ]
  },
  {
   "cell_type": "code",
   "execution_count": null,
   "metadata": {},
   "outputs": [],
   "source": [
    "import random #this code randomly shuffles the words in every line of the poem\n",
    "sea_rose = open(\"sea_rose.txt\").read()\n",
    "lines = sea_rose.split(\"\\n\")\n",
    "for line in lines:\n",
    "    if len(line) == 0:\n",
    "        print(line)\n",
    "    else:\n",
    "        line_words = line.split()\n",
    "        random.shuffle(line_words)\n",
    "        new_line = ' '.join(line_words)\n",
    "        print(new_line)"
   ]
  },
  {
   "cell_type": "code",
   "execution_count": null,
   "metadata": {},
   "outputs": [],
   "source": [
    "import random #randomly shuffles lines of a poem\n",
    "rosepoem = open(\"sea_rose.txt\").read()\n",
    "roselines = rosepoem.split(\"\\n\")\n",
    "random.shuffle(roselines)\n",
    "poem_shuffled = '\\n'.join(roselines)\n",
    "print(poem_shuffled)"
   ]
  },
  {
   "cell_type": "code",
   "execution_count": null,
   "metadata": {},
   "outputs": [],
   "source": [
    "fp = open(\"frost.txt\").read() #opens and prints poem. Just replace my file name with yours\n",
    "print(fp)"
   ]
  },
  {
   "cell_type": "code",
   "execution_count": null,
   "metadata": {},
   "outputs": [],
   "source": [
    "bp = open(\"tyger.txt\").read() #opens and prints poem. Replace my file name with yours for a different poem\n",
    "print(bp)"
   ]
  },
  {
   "cell_type": "markdown",
   "metadata": {},
   "source": [
    "Challenge Exercise: Modify the code below so that it replaces all the adjectives in one poem with adjectives from another. Then try one additional mashup, this time swapping out verbs."
   ]
  },
  {
   "cell_type": "code",
   "execution_count": null,
   "metadata": {},
   "outputs": [],
   "source": [
    "from textblob import TextBlob #replaces every noun in sea rose poem with nouns in robert frost poem\n",
    "import sys\n",
    "import random\n",
    "roseblob = TextBlob(open(\"sea_rose.txt\").read())\n",
    "rosenouns = list()\n",
    "for word, tag in roseblob.tags:\n",
    "    if tag == 'NN':\n",
    "        rosenouns.append(word.lemmatize())\n",
    "\n",
    "frostblob = TextBlob(open(\"frost.txt\").read())\n",
    "frostnouns = list()\n",
    "for word, tag in frostblob.tags:\n",
    "    if tag == 'NN':\n",
    "        frostnouns.append(word.lemmatize())\n",
    "\n",
    "lines = roseblob.split(\"\\n\")\n",
    "for line in lines:\n",
    "    line = line.strip()\n",
    "    if len(line) == 0:\n",
    "        print(line)\n",
    "    else:\n",
    "        line_words = line.split()\n",
    "        for word in line_words:\n",
    "            if word in rosenouns:\n",
    "                random_frost_word = random.choice(frostnouns)\n",
    "                line = line.replace(word, random_frost_word)\n",
    "        print(line)"
   ]
  },
  {
   "cell_type": "code",
   "execution_count": null,
   "metadata": {},
   "outputs": [],
   "source": [
    "from textblob import TextBlob #replaces every noun in poem with noun from either a blake or frost poem\n",
    "import sys\n",
    "import random\n",
    "roseblob = TextBlob(open(\"sea_rose.txt\").read())\n",
    "rosenouns = list()\n",
    "for word, tag in roseblob.tags:\n",
    "    if tag == 'NN':\n",
    "        rosenouns.append(word.lemmatize())\n",
    "\n",
    "frostblob = TextBlob(open(\"frost.txt\").read())\n",
    "frostnouns = list()\n",
    "for word, tag in frostblob.tags:\n",
    "    if tag == 'NN':\n",
    "        frostnouns.append(word.lemmatize())\n",
    "        \n",
    "blakeblob = TextBlob(open(\"tyger.txt\").read())\n",
    "for word, tag in blakeblob.tags:\n",
    "    if tag == 'NN':\n",
    "        frostnouns.append(word.lemmatize())\n",
    "\n",
    "lines = roseblob.split(\"\\n\")\n",
    "for line in lines:\n",
    "    line = line.strip()\n",
    "    if len(line) == 0:\n",
    "        print(line)\n",
    "    else:\n",
    "        line_words = line.split()\n",
    "        for word in line_words:\n",
    "            if word in rosenouns:\n",
    "                random_frost_word = random.choice(frostnouns)\n",
    "                line = line.replace(word, random_frost_word)\n",
    "        print(line)"
   ]
  },
  {
   "cell_type": "code",
   "execution_count": null,
   "metadata": {},
   "outputs": [],
   "source": [
    "import sys #same procedure as previously, but this time the frost poem is the base poem\n",
    "import random\n",
    "rosepoem = open(\"sea_rose.txt\").read()\n",
    "roselines = list()\n",
    "for line in roselines:\n",
    "    if tag == 'NN':\n",
    "        rosenouns.append(word.lemmatize())       \n",
    "\n",
    "frostblob = TextBlob(open(\"frost.txt\").read())\n",
    "frostnouns = list()\n",
    "for word, tag in frostblob.tags:\n",
    "    if tag == 'NN':\n",
    "        frostnouns.append(word.lemmatize())\n",
    "\n",
    "lines = frostblob.split(\"\\n\")\n",
    "for line in lines:\n",
    "    line = line.strip()\n",
    "    if len(line) == 0:\n",
    "        print(line)\n",
    "    else:\n",
    "        line_words = line.split()\n",
    "        for word in line_words:\n",
    "            if word in frostnouns:\n",
    "                random_rose_word = random.choice(rosenouns)\n",
    "                line = line.replace(word, random_rose_word)\n",
    "        print(line)"
   ]
  },
  {
   "cell_type": "code",
   "execution_count": null,
   "metadata": {},
   "outputs": [],
   "source": [
    "import random #generates a new poem by randomly selecting a line from one of two different poems\n",
    "import time\n",
    "rosepoem = open(\"sea_rose.txt\").read()\n",
    "roselines = rosepoem.split(\"\\n\")\n",
    "frostpoem = open(\"frost.txt\").read()\n",
    "frostlines = frostpoem.split(\"\\n\")\n",
    "while True:\n",
    "    rosechoice = random.choice(roselines)\n",
    "    frostchoice = random.choice(frostlines)\n",
    "    print(rosechoice)\n",
    "    print(frostchoice)\n",
    "    time.sleep(1)"
   ]
  },
  {
   "cell_type": "code",
   "execution_count": null,
   "metadata": {},
   "outputs": [],
   "source": [
    "import random #generates new poem by first selecting 2 lines from one poem, then 2 from another\n",
    "import time\n",
    "rosepoem = open(\"sea_rose.txt\").read()\n",
    "roselines = rosepoem.split(\"\\n\")\n",
    "frostpoem = open(\"frost.txt\").read()\n",
    "frostlines = frostpoem.split(\"\\n\")\n",
    "while True:\n",
    "    count = 0\n",
    "    while count < 3:\n",
    "        rosechoice = random.choice(roselines)\n",
    "        print(rosechoice)\n",
    "        count = count + 1\n",
    "    frostchoice = random.choice(frostlines)\n",
    "    print(frostchoice)\n",
    "    time.sleep(1)"
   ]
  },
  {
   "cell_type": "markdown",
   "metadata": {},
   "source": [
    "Run the next cell only if you're using your own notebook locally installed on your own machine; if you're using my Binder notebook mounted in the cloud, skip the next cell and move on to the one below it."
   ]
  },
  {
   "cell_type": "code",
   "execution_count": null,
   "metadata": {},
   "outputs": [],
   "source": [
    "import sys\n",
    "!{sys.executable} -m pip install markovify"
   ]
  },
  {
   "cell_type": "code",
   "execution_count": null,
   "metadata": {},
   "outputs": [],
   "source": [
    "import markovify #sample code from https://github.com/jsvine/markovify\n",
    "\n",
    "# Get raw text as string.\n",
    "with open(\"yellow_wallpaper2.txt\") as f:\n",
    "    text = f.read()\n",
    "\n",
    "# Build the model.\n",
    "text_model = markovify.Text(text)\n",
    "\n",
    "# Print five randomly-generated sentences\n",
    "for i in range(5):\n",
    "    print(text_model.make_sentence())\n",
    "\n",
    "# Print three randomly-generated sentences of no more than 280 characters\n",
    "for i in range(3):\n",
    "    print(text_model.make_short_sentence(280))"
   ]
  },
  {
   "cell_type": "markdown",
   "metadata": {},
   "source": [
    "Things to try: experiment with larger texts or corpora to get better Markovify results. For example, download one or more novels from Project Gutenberg to work with (be sure to select plain text UTF-8 format for any given PG text you wish to work with). https://www.gutenberg.org"
   ]
  }
 ],
 "metadata": {
  "kernelspec": {
   "display_name": "Python 3",
   "language": "python",
   "name": "python3"
  },
  "language_info": {
   "codemirror_mode": {
    "name": "ipython",
    "version": 3
   },
   "file_extension": ".py",
   "mimetype": "text/x-python",
   "name": "python",
   "nbconvert_exporter": "python",
   "pygments_lexer": "ipython3",
   "version": "3.7.6"
  }
 },
 "nbformat": 4,
 "nbformat_minor": 2
}
